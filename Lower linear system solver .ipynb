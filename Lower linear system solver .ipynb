{
 "cells": [
  {
   "cell_type": "code",
   "execution_count": 1,
   "metadata": {},
   "outputs": [],
   "source": [
    "import numpy as np"
   ]
  },
  {
   "cell_type": "code",
   "execution_count": 13,
   "metadata": {},
   "outputs": [],
   "source": [
    "# Simple matrix multiplication \n",
    "def matrix_mult(A,B):\n",
    "    n,m=A.shape\n",
    "    C=np.zeros([n,m])\n",
    "    for i in range (0,n):\n",
    "        for j in range (0,m):\n",
    "            for k in range(0,m):\n",
    "                C[i,j]+=A[i,k]*B[k,j]\n",
    "    return C        "
   ]
  },
  {
   "cell_type": "code",
   "execution_count": 14,
   "metadata": {},
   "outputs": [],
   "source": [
    "# Blocks-matrix multiplication \n",
    "def muls(x,y,b):\n",
    "    n=x.shape[0]\n",
    "    z = np.zeros((n,n))\n",
    "    r = np.zeros((b,b)) \n",
    "    u = np.zeros((b,b)) \n",
    "    v = np.zeros((b,b))\n",
    "    for i in range(0, n, b):\n",
    "        for j in range(0, n, b):\n",
    "            for k in range(0, n, b):\n",
    "                for k1 in range(0, b):\n",
    "                    for k2 in range(0, b):\n",
    "                        u[k1,k2] = x[i+k1,k+k2]\n",
    "                        v[k1,k2] = y[k+k1,j+k2]\n",
    "                for ii in range(0, b):\n",
    "                    for jj in range(0, b):\n",
    "                        for kk in range(0, b):\n",
    "                            r[ii,jj] = r[ii,jj] + u[ii,kk]*v[kk,jj]\n",
    "            for k1 in range(0, b):\n",
    "                for k2 in range(0, b):\n",
    "                    z[i+k1,j+k2] = r[k1,k2]\n",
    "                    r[k1,k2] = 0\n",
    "    return z"
   ]
  },
  {
   "cell_type": "code",
   "execution_count": 15,
   "metadata": {},
   "outputs": [],
   "source": [
    "# Simple Resolution Forward Substitution\n",
    "def resolve(l,b):\n",
    "    n=l.shape[0]\n",
    "    x=np.zeros([n,n])\n",
    "    for i in range(n):\n",
    "        for j in range(n):\n",
    "            x[i,j]=b[i,j]\n",
    "            for k in range(i):\n",
    "                x[i,j]=x[i,j]-(l[i,k]*x[k,j])\n",
    "            x[i,j]=x[i,j]/l[i,i]\n",
    "    return x"
   ]
  },
  {
   "cell_type": "code",
   "execution_count": 11,
   "metadata": {},
   "outputs": [],
   "source": [
    "#blocs-resolution with vectorisation[slicing]\n",
    "def resolve_block_vect(L,B,b):\n",
    "    n=L.shape[0]\n",
    "    x=np.zeros([n,n])\n",
    "    s=np.zeros([b,b])\n",
    "    l=np.zeros([b,b])\n",
    "    for i in range(0,n,b):\n",
    "        l=L[i:i+b,i:i+b]\n",
    "        for j in range(0,n,b):\n",
    "            s=B[i:i+b,j:j+b]\n",
    "            for k in range(0,i,b):\n",
    "                #l=L[i:i+b,k:k+b]\n",
    "                s=s-matrix_mult(L[i:i+b,k:k+b],x[k:k+b,j:j+b])\n",
    "                #s=s-L[i:i+b,k:k+b]@x[k:k+b,j:j+b]\n",
    "                #s=s-muls(L[i:i+b,k:k+b],x[k:k+b,j:j+b],int(b/2))\n",
    "            x[i:i+b,j:j+b]=resolve(l,s)\n",
    "    return x"
   ]
  },
  {
   "cell_type": "code",
   "execution_count": 27,
   "metadata": {},
   "outputs": [],
   "source": [
    "#blocs-resolution without vectorisation[slicing]\n",
    "def resolve_block_ohne_vect(L,B,b):\n",
    "    n=L.shape[0]\n",
    "    x=np.zeros([n,n])\n",
    "    s=np.zeros([b,b])\n",
    "    l=np.zeros([b,b])\n",
    "    for i in range(0,n,b):\n",
    "        l=L[i:i+b,i:i+b]\n",
    "        for j in range(0,n,b):\n",
    "            s=B[i:i+b,j:j+b]\n",
    "            for k in range(0,i,b):\n",
    "                s=s-L[i:i+b,k:k+b]@x[k:k+b,j:j+b]\n",
    "            x[i:i+b,j:j+b]=resolve(l,s)\n",
    "    return x"
   ]
  },
  {
   "cell_type": "code",
   "execution_count": 16,
   "metadata": {},
   "outputs": [],
   "source": [
    "#resolution par blocs avec des boucles\n",
    "def resolve_block_b(X,B,L,b,mb):\n",
    "    N=len(B)\n",
    "    r = np.zeros((b,b)) \n",
    "    l = np.zeros((b,b)) \n",
    "    s= np.zeros((b,b))\n",
    "    x = np.zeros((b,b)) \n",
    "    y = np.zeros((b,b)) \n",
    "    for i in range(0, N, b):\n",
    "        for k1 in range(0, b):\n",
    "            for k2 in range(0, b):\n",
    "                l[k1,k2] = L[i+k1,i+k2]\n",
    "        for j in range(0, N, b):\n",
    "            for k1 in range(0, b):\n",
    "                for k2 in range(0, b):\n",
    "                    s[k1,k2] = B[i+k1,j+k2]\n",
    "            \n",
    "            for k in range(0,i,b):\n",
    "                for ii in range(0, b):\n",
    "                    for jj in range(0, b):\n",
    "                        x[ii,jj] = L[i+ii,k+jj]\n",
    "                        y [ii,jj] = X[k+ii,j+jj]\n",
    "                s-=muls(x,y,mb)\n",
    "            r=resolve(l,s)\n",
    "            for k1 in range(0, b):\n",
    "                for k2 in range(0, b):\n",
    "                    X[i+k1,j+k2] = r[k1,k2]\n",
    "    return X"
   ]
  },
  {
   "cell_type": "code",
   "execution_count": 30,
   "metadata": {},
   "outputs": [],
   "source": [
    "#ggenerate triangular matrix\n",
    "def mx_L(n):\n",
    "    l=np.random.randint(10, size=(n, n))\n",
    "    l=np.tril(l)\n",
    "    for i in range(n):\n",
    "        l[i,i]=1\n",
    "    return l"
   ]
  },
  {
   "cell_type": "code",
   "execution_count": 19,
   "metadata": {},
   "outputs": [],
   "source": [
    "#main TEST\n",
    "l=mx_L(100)\n",
    "n=100\n",
    "x=np.random.randint(10, size=(n,n))\n",
    "b=l@x"
   ]
  },
  {
   "cell_type": "code",
   "execution_count": 21,
   "metadata": {},
   "outputs": [
    {
     "name": "stdout",
     "output_type": "stream",
     "text": [
      "--- 1.7500219345092773 seconds ---\n"
     ]
    }
   ],
   "source": [
    "#temps du code simple\n",
    "import time\n",
    "start_time = time.time()\n",
    "resolve(l,b)\n",
    "print(\"--- %s seconds ---\" % (time.time() - start_time))"
   ]
  },
  {
   "cell_type": "code",
   "execution_count": 22,
   "metadata": {},
   "outputs": [
    {
     "name": "stdout",
     "output_type": "stream",
     "text": [
      "--- 1.7266638278961182 seconds ---\n"
     ]
    }
   ],
   "source": [
    "#temps code blocs vecto avec multiplication par blocs\n",
    "import time\n",
    "start_time = time.time()\n",
    "resolve_block(l,b,20)\n",
    "print(\"--- %s seconds ---\" % (time.time() - start_time))"
   ]
  },
  {
   "cell_type": "code",
   "execution_count": 23,
   "metadata": {},
   "outputs": [
    {
     "name": "stdout",
     "output_type": "stream",
     "text": [
      "--- 0.5555500984191895 seconds ---\n"
     ]
    }
   ],
   "source": [
    "#temps code blocs avec boucles avec multiplication par blocs\n",
    "import time\n",
    "start_time = time.time()\n",
    "resolve_block_b(x,b,l,20,10)\n",
    "print(\"--- %s seconds ---\" % (time.time() - start_time))\n"
   ]
  },
  {
   "cell_type": "code",
   "execution_count": null,
   "metadata": {},
   "outputs": [],
   "source": []
  },
  {
   "cell_type": "code",
   "execution_count": 24,
   "metadata": {},
   "outputs": [
    {
     "data": {
      "text/plain": [
       "array([[5., 1., 1., ..., 9., 6., 4.],\n",
       "       [6., 2., 2., ..., 5., 2., 7.],\n",
       "       [7., 0., 7., ..., 0., 7., 1.],\n",
       "       ...,\n",
       "       [6., 7., 2., ..., 0., 4., 6.],\n",
       "       [4., 0., 1., ..., 7., 5., 3.],\n",
       "       [8., 6., 1., ..., 7., 1., 0.]])"
      ]
     },
     "execution_count": 24,
     "metadata": {},
     "output_type": "execute_result"
    }
   ],
   "source": [
    "resolve(l,b)"
   ]
  },
  {
   "cell_type": "code",
   "execution_count": 25,
   "metadata": {},
   "outputs": [
    {
     "data": {
      "text/plain": [
       "array([[5., 1., 1., ..., 9., 6., 4.],\n",
       "       [6., 2., 2., ..., 5., 2., 7.],\n",
       "       [7., 0., 7., ..., 0., 7., 1.],\n",
       "       ...,\n",
       "       [6., 7., 2., ..., 0., 4., 6.],\n",
       "       [4., 0., 1., ..., 7., 5., 3.],\n",
       "       [8., 6., 1., ..., 7., 1., 0.]])"
      ]
     },
     "execution_count": 25,
     "metadata": {},
     "output_type": "execute_result"
    }
   ],
   "source": [
    "resolve_block(l,b,20)"
   ]
  },
  {
   "cell_type": "code",
   "execution_count": 26,
   "metadata": {},
   "outputs": [
    {
     "data": {
      "text/plain": [
       "array([[5, 1, 1, ..., 9, 6, 4],\n",
       "       [6, 2, 2, ..., 5, 2, 7],\n",
       "       [7, 0, 7, ..., 0, 7, 1],\n",
       "       ...,\n",
       "       [6, 7, 2, ..., 0, 4, 6],\n",
       "       [4, 0, 1, ..., 7, 5, 3],\n",
       "       [8, 6, 1, ..., 7, 1, 0]])"
      ]
     },
     "execution_count": 26,
     "metadata": {},
     "output_type": "execute_result"
    }
   ],
   "source": [
    "resolve_block_b(x,b,l,20,10)\n"
   ]
  },
  {
   "cell_type": "code",
   "execution_count": 28,
   "metadata": {},
   "outputs": [
    {
     "data": {
      "text/plain": [
       "array([[5., 1., 1., ..., 9., 6., 4.],\n",
       "       [6., 2., 2., ..., 5., 2., 7.],\n",
       "       [7., 0., 7., ..., 0., 7., 1.],\n",
       "       ...,\n",
       "       [6., 7., 2., ..., 0., 4., 6.],\n",
       "       [4., 0., 1., ..., 7., 5., 3.],\n",
       "       [8., 6., 1., ..., 7., 1., 0.]])"
      ]
     },
     "execution_count": 28,
     "metadata": {},
     "output_type": "execute_result"
    }
   ],
   "source": [
    "resolve_block_vect(l,b,20)"
   ]
  },
  {
   "cell_type": "code",
   "execution_count": 29,
   "metadata": {},
   "outputs": [
    {
     "data": {
      "text/plain": [
       "array([[5., 1., 1., ..., 9., 6., 4.],\n",
       "       [6., 2., 2., ..., 5., 2., 7.],\n",
       "       [7., 0., 7., ..., 0., 7., 1.],\n",
       "       ...,\n",
       "       [6., 7., 2., ..., 0., 4., 6.],\n",
       "       [4., 0., 1., ..., 7., 5., 3.],\n",
       "       [8., 6., 1., ..., 7., 1., 0.]])"
      ]
     },
     "execution_count": 29,
     "metadata": {},
     "output_type": "execute_result"
    }
   ],
   "source": [
    "resolve_block_ohne_vect(l,b,20)"
   ]
  },
  {
   "cell_type": "code",
   "execution_count": null,
   "metadata": {},
   "outputs": [],
   "source": []
  }
 ],
 "metadata": {
  "kernelspec": {
   "display_name": "Python 3",
   "language": "python",
   "name": "python3"
  },
  "language_info": {
   "codemirror_mode": {
    "name": "ipython",
    "version": 3
   },
   "file_extension": ".py",
   "mimetype": "text/x-python",
   "name": "python",
   "nbconvert_exporter": "python",
   "pygments_lexer": "ipython3",
   "version": "3.8.5"
  }
 },
 "nbformat": 4,
 "nbformat_minor": 4
}
